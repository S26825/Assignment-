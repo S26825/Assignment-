{
  "nbformat": 4,
  "nbformat_minor": 0,
  "metadata": {
    "colab": {
      "name": "Assignment.ipynb",
      "provenance": [],
      "collapsed_sections": []
    },
    "kernelspec": {
      "name": "python3",
      "display_name": "Python 3"
    }
  },
  "cells": [
    {
      "cell_type": "code",
      "metadata": {
        "colab": {
          "base_uri": "https://localhost:8080/",
          "height": 35
        },
        "id": "TPsM2yhBYhmA",
        "outputId": "244cedc2-9abb-4953-c5ca-4dc32a903572"
      },
      "source": [
        "import pandas as pd\r\n",
        "pd.__version__\r\n"
      ],
      "execution_count": null,
      "outputs": [
        {
          "output_type": "execute_result",
          "data": {
            "application/vnd.google.colaboratory.intrinsic+json": {
              "type": "string"
            },
            "text/plain": [
              "'1.1.5'"
            ]
          },
          "metadata": {
            "tags": []
          },
          "execution_count": 1
        }
      ]
    },
    {
      "cell_type": "code",
      "metadata": {
        "colab": {
          "base_uri": "https://localhost:8080/"
        },
        "id": "SwuS082ziG64",
        "outputId": "d8f92277-f2bd-4679-bd5d-54303e7aee9b"
      },
      "source": [
        "from google.colab import drive\r\n",
        "drive.mount('/content/drive')"
      ],
      "execution_count": null,
      "outputs": [
        {
          "output_type": "stream",
          "text": [
            "Mounted at /content/drive\n"
          ],
          "name": "stdout"
        }
      ]
    },
    {
      "cell_type": "code",
      "metadata": {
        "id": "00Mtu7oGF-7N"
      },
      "source": [
        ""
      ],
      "execution_count": null,
      "outputs": []
    },
    {
      "cell_type": "code",
      "metadata": {
        "id": "NiD2p1fIGAi6"
      },
      "source": [
        ""
      ],
      "execution_count": null,
      "outputs": []
    },
    {
      "cell_type": "code",
      "metadata": {
        "colab": {
          "base_uri": "https://localhost:8080/"
        },
        "id": "-_AjQmzbhhf3",
        "outputId": "06048731-264b-4487-aa25-fef1285da9d1"
      },
      "source": [
        "df=pd.read_csv(\"/content/drive/MyDrive/sana/house.csv\")\r\n",
        "print(df)\r\n",
        "\r\n"
      ],
      "execution_count": null,
      "outputs": [
        {
          "output_type": "stream",
          "text": [
            "   year build   2nd floor  kitchten   bath  area  saleprice\n",
            "0         2001      854.0          2     1  1710     200500\n",
            "1         2001        NaN          3     1  1262     181500\n",
            "2         2003      866.0          1     2  1786     223500\n",
            "3         2003        NaN          1     3  1717     140000\n",
            "4         2004      756.0          2     2  2198     250000\n",
            "5         2005     1053.0          2     2  2300     200000\n"
          ],
          "name": "stdout"
        }
      ]
    },
    {
      "cell_type": "code",
      "metadata": {
        "colab": {
          "base_uri": "https://localhost:8080/",
          "height": 297
        },
        "id": "lldQEdMci1ij",
        "outputId": "256db38a-e423-4361-80bc-d0b7f943c665"
      },
      "source": [
        "df.describe()"
      ],
      "execution_count": null,
      "outputs": [
        {
          "output_type": "execute_result",
          "data": {
            "text/html": [
              "<div>\n",
              "<style scoped>\n",
              "    .dataframe tbody tr th:only-of-type {\n",
              "        vertical-align: middle;\n",
              "    }\n",
              "\n",
              "    .dataframe tbody tr th {\n",
              "        vertical-align: top;\n",
              "    }\n",
              "\n",
              "    .dataframe thead th {\n",
              "        text-align: right;\n",
              "    }\n",
              "</style>\n",
              "<table border=\"1\" class=\"dataframe\">\n",
              "  <thead>\n",
              "    <tr style=\"text-align: right;\">\n",
              "      <th></th>\n",
              "      <th>year build</th>\n",
              "      <th>2nd floor</th>\n",
              "      <th>kitchten</th>\n",
              "      <th>bath</th>\n",
              "      <th>area</th>\n",
              "      <th>saleprice</th>\n",
              "    </tr>\n",
              "  </thead>\n",
              "  <tbody>\n",
              "    <tr>\n",
              "      <th>count</th>\n",
              "      <td>6.000000</td>\n",
              "      <td>4.000000</td>\n",
              "      <td>6.000000</td>\n",
              "      <td>6.000000</td>\n",
              "      <td>6.000000</td>\n",
              "      <td>6.000000</td>\n",
              "    </tr>\n",
              "    <tr>\n",
              "      <th>mean</th>\n",
              "      <td>2002.833333</td>\n",
              "      <td>882.250000</td>\n",
              "      <td>1.833333</td>\n",
              "      <td>1.833333</td>\n",
              "      <td>1828.833333</td>\n",
              "      <td>199250.000000</td>\n",
              "    </tr>\n",
              "    <tr>\n",
              "      <th>std</th>\n",
              "      <td>1.602082</td>\n",
              "      <td>124.038636</td>\n",
              "      <td>0.752773</td>\n",
              "      <td>0.752773</td>\n",
              "      <td>376.309669</td>\n",
              "      <td>37393.515481</td>\n",
              "    </tr>\n",
              "    <tr>\n",
              "      <th>min</th>\n",
              "      <td>2001.000000</td>\n",
              "      <td>756.000000</td>\n",
              "      <td>1.000000</td>\n",
              "      <td>1.000000</td>\n",
              "      <td>1262.000000</td>\n",
              "      <td>140000.000000</td>\n",
              "    </tr>\n",
              "    <tr>\n",
              "      <th>25%</th>\n",
              "      <td>2001.500000</td>\n",
              "      <td>829.500000</td>\n",
              "      <td>1.250000</td>\n",
              "      <td>1.250000</td>\n",
              "      <td>1711.750000</td>\n",
              "      <td>186125.000000</td>\n",
              "    </tr>\n",
              "    <tr>\n",
              "      <th>50%</th>\n",
              "      <td>2003.000000</td>\n",
              "      <td>860.000000</td>\n",
              "      <td>2.000000</td>\n",
              "      <td>2.000000</td>\n",
              "      <td>1751.500000</td>\n",
              "      <td>200250.000000</td>\n",
              "    </tr>\n",
              "    <tr>\n",
              "      <th>75%</th>\n",
              "      <td>2003.750000</td>\n",
              "      <td>912.750000</td>\n",
              "      <td>2.000000</td>\n",
              "      <td>2.000000</td>\n",
              "      <td>2095.000000</td>\n",
              "      <td>217750.000000</td>\n",
              "    </tr>\n",
              "    <tr>\n",
              "      <th>max</th>\n",
              "      <td>2005.000000</td>\n",
              "      <td>1053.000000</td>\n",
              "      <td>3.000000</td>\n",
              "      <td>3.000000</td>\n",
              "      <td>2300.000000</td>\n",
              "      <td>250000.000000</td>\n",
              "    </tr>\n",
              "  </tbody>\n",
              "</table>\n",
              "</div>"
            ],
            "text/plain": [
              "       year build     2nd floor  kitchten       bath         area  \\\n",
              "count     6.000000     4.000000   6.000000  6.000000     6.000000   \n",
              "mean   2002.833333   882.250000   1.833333  1.833333  1828.833333   \n",
              "std       1.602082   124.038636   0.752773  0.752773   376.309669   \n",
              "min    2001.000000   756.000000   1.000000  1.000000  1262.000000   \n",
              "25%    2001.500000   829.500000   1.250000  1.250000  1711.750000   \n",
              "50%    2003.000000   860.000000   2.000000  2.000000  1751.500000   \n",
              "75%    2003.750000   912.750000   2.000000  2.000000  2095.000000   \n",
              "max    2005.000000  1053.000000   3.000000  3.000000  2300.000000   \n",
              "\n",
              "           saleprice  \n",
              "count       6.000000  \n",
              "mean   199250.000000  \n",
              "std     37393.515481  \n",
              "min    140000.000000  \n",
              "25%    186125.000000  \n",
              "50%    200250.000000  \n",
              "75%    217750.000000  \n",
              "max    250000.000000  "
            ]
          },
          "metadata": {
            "tags": []
          },
          "execution_count": 26
        }
      ]
    },
    {
      "cell_type": "code",
      "metadata": {
        "colab": {
          "base_uri": "https://localhost:8080/"
        },
        "id": "AJ4ZqzdVGB9-",
        "outputId": "3545afa6-d9a0-4109-939a-c73a59c82974"
      },
      "source": [
        "df.min()"
      ],
      "execution_count": null,
      "outputs": [
        {
          "output_type": "execute_result",
          "data": {
            "text/plain": [
              "year build       2001.0\n",
              "2nd floor         756.0\n",
              "kitchten            1.0\n",
              "bath                1.0\n",
              "area             1262.0\n",
              "saleprice      140000.0\n",
              "dtype: float64"
            ]
          },
          "metadata": {
            "tags": []
          },
          "execution_count": 4
        }
      ]
    },
    {
      "cell_type": "code",
      "metadata": {
        "colab": {
          "base_uri": "https://localhost:8080/"
        },
        "id": "MQ--uk-jGGZu",
        "outputId": "ef721a32-9239-45e6-9bf2-83be7740b7ce"
      },
      "source": [
        "df.max()"
      ],
      "execution_count": null,
      "outputs": [
        {
          "output_type": "execute_result",
          "data": {
            "text/plain": [
              "year build       2005.0\n",
              "2nd floor        1053.0\n",
              "kitchten            3.0\n",
              "bath                3.0\n",
              "area             2300.0\n",
              "saleprice      250000.0\n",
              "dtype: float64"
            ]
          },
          "metadata": {
            "tags": []
          },
          "execution_count": 5
        }
      ]
    },
    {
      "cell_type": "code",
      "metadata": {
        "colab": {
          "base_uri": "https://localhost:8080/"
        },
        "id": "cxg35c7gGJZi",
        "outputId": "0cbf6678-8f30-4df0-9c73-4ea8c0c5259b"
      },
      "source": [
        "df.std()"
      ],
      "execution_count": null,
      "outputs": [
        {
          "output_type": "execute_result",
          "data": {
            "text/plain": [
              "year build         1.602082\n",
              "2nd floor        124.038636\n",
              "kitchten           0.752773\n",
              "bath               0.752773\n",
              "area             376.309669\n",
              "saleprice      37393.515481\n",
              "dtype: float64"
            ]
          },
          "metadata": {
            "tags": []
          },
          "execution_count": 7
        }
      ]
    },
    {
      "cell_type": "code",
      "metadata": {
        "colab": {
          "base_uri": "https://localhost:8080/",
          "height": 220
        },
        "id": "GnBY9jQzJJVQ",
        "outputId": "a9cafc04-e44e-42d5-b91e-fd0cc5f6ceaf"
      },
      "source": [
        "df.sort_values(by='bath')"
      ],
      "execution_count": null,
      "outputs": [
        {
          "output_type": "execute_result",
          "data": {
            "text/html": [
              "<div>\n",
              "<style scoped>\n",
              "    .dataframe tbody tr th:only-of-type {\n",
              "        vertical-align: middle;\n",
              "    }\n",
              "\n",
              "    .dataframe tbody tr th {\n",
              "        vertical-align: top;\n",
              "    }\n",
              "\n",
              "    .dataframe thead th {\n",
              "        text-align: right;\n",
              "    }\n",
              "</style>\n",
              "<table border=\"1\" class=\"dataframe\">\n",
              "  <thead>\n",
              "    <tr style=\"text-align: right;\">\n",
              "      <th></th>\n",
              "      <th>year build</th>\n",
              "      <th>2nd floor</th>\n",
              "      <th>kitchten</th>\n",
              "      <th>bath</th>\n",
              "      <th>area</th>\n",
              "      <th>saleprice</th>\n",
              "    </tr>\n",
              "  </thead>\n",
              "  <tbody>\n",
              "    <tr>\n",
              "      <th>0</th>\n",
              "      <td>2001</td>\n",
              "      <td>854.0</td>\n",
              "      <td>2</td>\n",
              "      <td>1</td>\n",
              "      <td>1710</td>\n",
              "      <td>200500</td>\n",
              "    </tr>\n",
              "    <tr>\n",
              "      <th>1</th>\n",
              "      <td>2001</td>\n",
              "      <td>NaN</td>\n",
              "      <td>3</td>\n",
              "      <td>1</td>\n",
              "      <td>1262</td>\n",
              "      <td>181500</td>\n",
              "    </tr>\n",
              "    <tr>\n",
              "      <th>2</th>\n",
              "      <td>2003</td>\n",
              "      <td>866.0</td>\n",
              "      <td>1</td>\n",
              "      <td>2</td>\n",
              "      <td>1786</td>\n",
              "      <td>223500</td>\n",
              "    </tr>\n",
              "    <tr>\n",
              "      <th>4</th>\n",
              "      <td>2004</td>\n",
              "      <td>756.0</td>\n",
              "      <td>2</td>\n",
              "      <td>2</td>\n",
              "      <td>2198</td>\n",
              "      <td>250000</td>\n",
              "    </tr>\n",
              "    <tr>\n",
              "      <th>5</th>\n",
              "      <td>2005</td>\n",
              "      <td>1053.0</td>\n",
              "      <td>2</td>\n",
              "      <td>2</td>\n",
              "      <td>2300</td>\n",
              "      <td>200000</td>\n",
              "    </tr>\n",
              "    <tr>\n",
              "      <th>3</th>\n",
              "      <td>2003</td>\n",
              "      <td>NaN</td>\n",
              "      <td>1</td>\n",
              "      <td>3</td>\n",
              "      <td>1717</td>\n",
              "      <td>140000</td>\n",
              "    </tr>\n",
              "  </tbody>\n",
              "</table>\n",
              "</div>"
            ],
            "text/plain": [
              "   year build   2nd floor  kitchten   bath  area  saleprice\n",
              "0         2001      854.0          2     1  1710     200500\n",
              "1         2001        NaN          3     1  1262     181500\n",
              "2         2003      866.0          1     2  1786     223500\n",
              "4         2004      756.0          2     2  2198     250000\n",
              "5         2005     1053.0          2     2  2300     200000\n",
              "3         2003        NaN          1     3  1717     140000"
            ]
          },
          "metadata": {
            "tags": []
          },
          "execution_count": 9
        }
      ]
    },
    {
      "cell_type": "code",
      "metadata": {
        "colab": {
          "base_uri": "https://localhost:8080/",
          "height": 220
        },
        "id": "9NYdYt6uJYFM",
        "outputId": "e81b27a7-7b80-4b74-baa2-7d5c11a24451"
      },
      "source": [
        "df.sort_values(by=['bath','area'])"
      ],
      "execution_count": null,
      "outputs": [
        {
          "output_type": "execute_result",
          "data": {
            "text/html": [
              "<div>\n",
              "<style scoped>\n",
              "    .dataframe tbody tr th:only-of-type {\n",
              "        vertical-align: middle;\n",
              "    }\n",
              "\n",
              "    .dataframe tbody tr th {\n",
              "        vertical-align: top;\n",
              "    }\n",
              "\n",
              "    .dataframe thead th {\n",
              "        text-align: right;\n",
              "    }\n",
              "</style>\n",
              "<table border=\"1\" class=\"dataframe\">\n",
              "  <thead>\n",
              "    <tr style=\"text-align: right;\">\n",
              "      <th></th>\n",
              "      <th>year build</th>\n",
              "      <th>2nd floor</th>\n",
              "      <th>kitchten</th>\n",
              "      <th>bath</th>\n",
              "      <th>area</th>\n",
              "      <th>saleprice</th>\n",
              "    </tr>\n",
              "  </thead>\n",
              "  <tbody>\n",
              "    <tr>\n",
              "      <th>1</th>\n",
              "      <td>2001</td>\n",
              "      <td>NaN</td>\n",
              "      <td>3</td>\n",
              "      <td>1</td>\n",
              "      <td>1262</td>\n",
              "      <td>181500</td>\n",
              "    </tr>\n",
              "    <tr>\n",
              "      <th>0</th>\n",
              "      <td>2001</td>\n",
              "      <td>854.0</td>\n",
              "      <td>2</td>\n",
              "      <td>1</td>\n",
              "      <td>1710</td>\n",
              "      <td>200500</td>\n",
              "    </tr>\n",
              "    <tr>\n",
              "      <th>2</th>\n",
              "      <td>2003</td>\n",
              "      <td>866.0</td>\n",
              "      <td>1</td>\n",
              "      <td>2</td>\n",
              "      <td>1786</td>\n",
              "      <td>223500</td>\n",
              "    </tr>\n",
              "    <tr>\n",
              "      <th>4</th>\n",
              "      <td>2004</td>\n",
              "      <td>756.0</td>\n",
              "      <td>2</td>\n",
              "      <td>2</td>\n",
              "      <td>2198</td>\n",
              "      <td>250000</td>\n",
              "    </tr>\n",
              "    <tr>\n",
              "      <th>5</th>\n",
              "      <td>2005</td>\n",
              "      <td>1053.0</td>\n",
              "      <td>2</td>\n",
              "      <td>2</td>\n",
              "      <td>2300</td>\n",
              "      <td>200000</td>\n",
              "    </tr>\n",
              "    <tr>\n",
              "      <th>3</th>\n",
              "      <td>2003</td>\n",
              "      <td>NaN</td>\n",
              "      <td>1</td>\n",
              "      <td>3</td>\n",
              "      <td>1717</td>\n",
              "      <td>140000</td>\n",
              "    </tr>\n",
              "  </tbody>\n",
              "</table>\n",
              "</div>"
            ],
            "text/plain": [
              "   year build   2nd floor  kitchten   bath  area  saleprice\n",
              "1         2001        NaN          3     1  1262     181500\n",
              "0         2001      854.0          2     1  1710     200500\n",
              "2         2003      866.0          1     2  1786     223500\n",
              "4         2004      756.0          2     2  2198     250000\n",
              "5         2005     1053.0          2     2  2300     200000\n",
              "3         2003        NaN          1     3  1717     140000"
            ]
          },
          "metadata": {
            "tags": []
          },
          "execution_count": 10
        }
      ]
    },
    {
      "cell_type": "code",
      "metadata": {
        "colab": {
          "base_uri": "https://localhost:8080/"
        },
        "id": "EaiqELqFJkNs",
        "outputId": "aefa8b7e-4d0d-45a3-ca1f-3bb3a15fb419"
      },
      "source": [
        "df1=df.sort_values(by=['bath','area'], inplace=True, ascending=[True, False])\r\n",
        "print(df1)"
      ],
      "execution_count": null,
      "outputs": [
        {
          "output_type": "stream",
          "text": [
            "None\n"
          ],
          "name": "stdout"
        }
      ]
    },
    {
      "cell_type": "code",
      "metadata": {
        "colab": {
          "base_uri": "https://localhost:8080/",
          "height": 204
        },
        "id": "ynQBcg9diymY",
        "outputId": "995d9b26-e838-4463-9a77-2926d0b291c0"
      },
      "source": [
        "df.head()"
      ],
      "execution_count": null,
      "outputs": [
        {
          "output_type": "execute_result",
          "data": {
            "text/html": [
              "<div>\n",
              "<style scoped>\n",
              "    .dataframe tbody tr th:only-of-type {\n",
              "        vertical-align: middle;\n",
              "    }\n",
              "\n",
              "    .dataframe tbody tr th {\n",
              "        vertical-align: top;\n",
              "    }\n",
              "\n",
              "    .dataframe thead th {\n",
              "        text-align: right;\n",
              "    }\n",
              "</style>\n",
              "<table border=\"1\" class=\"dataframe\">\n",
              "  <thead>\n",
              "    <tr style=\"text-align: right;\">\n",
              "      <th></th>\n",
              "      <th>year build</th>\n",
              "      <th>2nd floor</th>\n",
              "      <th>kitchten</th>\n",
              "      <th>bath</th>\n",
              "      <th>area</th>\n",
              "      <th>saleprice</th>\n",
              "    </tr>\n",
              "  </thead>\n",
              "  <tbody>\n",
              "    <tr>\n",
              "      <th>0</th>\n",
              "      <td>2001</td>\n",
              "      <td>854.0</td>\n",
              "      <td>2</td>\n",
              "      <td>1</td>\n",
              "      <td>1710</td>\n",
              "      <td>200500</td>\n",
              "    </tr>\n",
              "    <tr>\n",
              "      <th>1</th>\n",
              "      <td>2001</td>\n",
              "      <td>NaN</td>\n",
              "      <td>3</td>\n",
              "      <td>1</td>\n",
              "      <td>1262</td>\n",
              "      <td>181500</td>\n",
              "    </tr>\n",
              "    <tr>\n",
              "      <th>2</th>\n",
              "      <td>2003</td>\n",
              "      <td>866.0</td>\n",
              "      <td>1</td>\n",
              "      <td>2</td>\n",
              "      <td>1786</td>\n",
              "      <td>223500</td>\n",
              "    </tr>\n",
              "    <tr>\n",
              "      <th>3</th>\n",
              "      <td>2003</td>\n",
              "      <td>NaN</td>\n",
              "      <td>1</td>\n",
              "      <td>3</td>\n",
              "      <td>1717</td>\n",
              "      <td>140000</td>\n",
              "    </tr>\n",
              "    <tr>\n",
              "      <th>4</th>\n",
              "      <td>2004</td>\n",
              "      <td>756.0</td>\n",
              "      <td>2</td>\n",
              "      <td>2</td>\n",
              "      <td>2198</td>\n",
              "      <td>250000</td>\n",
              "    </tr>\n",
              "  </tbody>\n",
              "</table>\n",
              "</div>"
            ],
            "text/plain": [
              "   year build   2nd floor  kitchten   bath  area  saleprice\n",
              "0         2001      854.0          2     1  1710     200500\n",
              "1         2001        NaN          3     1  1262     181500\n",
              "2         2003      866.0          1     2  1786     223500\n",
              "3         2003        NaN          1     3  1717     140000\n",
              "4         2004      756.0          2     2  2198     250000"
            ]
          },
          "metadata": {
            "tags": []
          },
          "execution_count": 24
        }
      ]
    },
    {
      "cell_type": "code",
      "metadata": {
        "id": "imJoqWxejkm6"
      },
      "source": [
        "#slicing"
      ],
      "execution_count": null,
      "outputs": []
    },
    {
      "cell_type": "code",
      "metadata": {
        "colab": {
          "base_uri": "https://localhost:8080/"
        },
        "id": "I-GDpErWi62m",
        "outputId": "968bf4ec-7728-4ba8-b65b-398f26f45fc9"
      },
      "source": [
        "print (df[0:2])\r\n"
      ],
      "execution_count": null,
      "outputs": [
        {
          "output_type": "stream",
          "text": [
            "   year build   2nd floor  kitchten   bath  area  saleprice\n",
            "0         2001      854.0          2     1  1710     200500\n",
            "1         2001        NaN          3     1  1262     181500\n"
          ],
          "name": "stdout"
        }
      ]
    },
    {
      "cell_type": "code",
      "metadata": {
        "colab": {
          "base_uri": "https://localhost:8080/"
        },
        "id": "m2I5d8tcjoJh",
        "outputId": "3bf82a22-08d8-45a5-bfdd-68d008b1194b"
      },
      "source": [
        "print (df[['area','bath']])   "
      ],
      "execution_count": null,
      "outputs": [
        {
          "output_type": "stream",
          "text": [
            "   area  bath\n",
            "0  1710     1\n",
            "1  1262     1\n",
            "2  1786     2\n",
            "3  1717     3\n",
            "4  2198     2\n",
            "5  2300     2\n"
          ],
          "name": "stdout"
        }
      ]
    },
    {
      "cell_type": "code",
      "metadata": {
        "colab": {
          "base_uri": "https://localhost:8080/"
        },
        "id": "eFYpP9TbkC67",
        "outputId": "22c47fbb-3c51-4478-d8e9-52541ac610be"
      },
      "source": [
        "print (df['area'][0:2])\r\n"
      ],
      "execution_count": null,
      "outputs": [
        {
          "output_type": "stream",
          "text": [
            "0    1710\n",
            "1    1262\n",
            "Name: area, dtype: int64\n"
          ],
          "name": "stdout"
        }
      ]
    },
    {
      "cell_type": "code",
      "metadata": {
        "id": "TPV2-59HjVlz"
      },
      "source": [
        "#filtring"
      ],
      "execution_count": null,
      "outputs": []
    },
    {
      "cell_type": "code",
      "metadata": {
        "colab": {
          "base_uri": "https://localhost:8080/"
        },
        "id": "yEMva0oUkWwM",
        "outputId": "6e289e22-ac00-4fe2-c6df-931549d314c4"
      },
      "source": [
        "print (df [df['bath'] == 2])"
      ],
      "execution_count": null,
      "outputs": [
        {
          "output_type": "stream",
          "text": [
            "   year build   2nd floor  kitchten   bath  area  saleprice\n",
            "2         2003      866.0          1     2  1786     223500\n",
            "4         2004      756.0          2     2  2198     250000\n",
            "5         2005     1053.0          2     2  2300     200000\n"
          ],
          "name": "stdout"
        }
      ]
    },
    {
      "cell_type": "code",
      "metadata": {
        "colab": {
          "base_uri": "https://localhost:8080/"
        },
        "id": "jQh5oOTvk9-E",
        "outputId": "7f8ef70e-fa05-4654-cb8b-7ea6fe301754"
      },
      "source": [
        "print (df [df['area'] != 2000])"
      ],
      "execution_count": null,
      "outputs": [
        {
          "output_type": "stream",
          "text": [
            "   year build   2nd floor  kitchten   bath  area  saleprice\n",
            "0         2001      854.0          2     1  1710     200500\n",
            "1         2001        NaN          3     1  1262     181500\n",
            "2         2003      866.0          1     2  1786     223500\n",
            "3         2003        NaN          1     3  1717     140000\n",
            "4         2004      756.0          2     2  2198     250000\n",
            "5         2005     1053.0          2     2  2300     200000\n"
          ],
          "name": "stdout"
        }
      ]
    },
    {
      "cell_type": "code",
      "metadata": {
        "id": "Y715_iSuleVU"
      },
      "source": [
        "#sorting"
      ],
      "execution_count": null,
      "outputs": []
    },
    {
      "cell_type": "code",
      "metadata": {
        "colab": {
          "base_uri": "https://localhost:8080/"
        },
        "id": "xjZsc7QilS35",
        "outputId": "920c6380-aa63-4b55-b40d-2f4a6706ee95"
      },
      "source": [
        "print (df.sort_values( by ='area'))"
      ],
      "execution_count": null,
      "outputs": [
        {
          "output_type": "stream",
          "text": [
            "   year build   2nd floor  kitchten   bath  area  saleprice\n",
            "1         2001        NaN          3     1  1262     181500\n",
            "0         2001      854.0          2     1  1710     200500\n",
            "3         2003        NaN          1     3  1717     140000\n",
            "2         2003      866.0          1     2  1786     223500\n",
            "4         2004      756.0          2     2  2198     250000\n",
            "5         2005     1053.0          2     2  2300     200000\n"
          ],
          "name": "stdout"
        }
      ]
    },
    {
      "cell_type": "code",
      "metadata": {
        "colab": {
          "base_uri": "https://localhost:8080/"
        },
        "id": "GXsDap9nly9R",
        "outputId": "82caf62f-4246-4605-ffa3-2b0237048965"
      },
      "source": [
        "df_sorted = df.sort_values( by =['area','bath'])\r\n",
        "print(df_sorted)"
      ],
      "execution_count": null,
      "outputs": [
        {
          "output_type": "stream",
          "text": [
            "   year build   2nd floor  kitchten   bath  area  saleprice\n",
            "1         2001        NaN          3     1  1262     181500\n",
            "0         2001      854.0          2     1  1710     200500\n",
            "3         2003        NaN          1     3  1717     140000\n",
            "2         2003      866.0          1     2  1786     223500\n",
            "4         2004      756.0          2     2  2198     250000\n",
            "5         2005     1053.0          2     2  2300     200000\n"
          ],
          "name": "stdout"
        }
      ]
    },
    {
      "cell_type": "code",
      "metadata": {
        "id": "yAvNHFpOm_90"
      },
      "source": [
        "#filling"
      ],
      "execution_count": null,
      "outputs": []
    },
    {
      "cell_type": "code",
      "metadata": {
        "colab": {
          "base_uri": "https://localhost:8080/"
        },
        "id": "xiXKbyk1nBoF",
        "outputId": "34fd50bd-a6db-4ef3-b267-094673143db9"
      },
      "source": [
        "print(df.fillna(99))"
      ],
      "execution_count": null,
      "outputs": [
        {
          "output_type": "stream",
          "text": [
            "   year build   2nd floor  kitchten   bath  area  saleprice\n",
            "1         2001       99.0          3     1  1262     181500\n",
            "0         2001      854.0          2     1  1710     200500\n",
            "3         2003       99.0          1     3  1717     140000\n",
            "2         2003      866.0          1     2  1786     223500\n",
            "4         2004      756.0          2     2  2198     250000\n",
            "5         2005     1053.0          2     2  2300     200000\n"
          ],
          "name": "stdout"
        }
      ]
    },
    {
      "cell_type": "code",
      "metadata": {
        "colab": {
          "base_uri": "https://localhost:8080/"
        },
        "id": "7NycMHbXnue5",
        "outputId": "08c7b93b-33b4-497e-d3df-53a0fd4e2549"
      },
      "source": [
        "print(df.fillna(df.mean()))"
      ],
      "execution_count": null,
      "outputs": [
        {
          "output_type": "stream",
          "text": [
            "   year build   2nd floor  kitchten   bath  area  saleprice\n",
            "1         2001     882.25          3     1  1262     181500\n",
            "0         2001     854.00          2     1  1710     200500\n",
            "3         2003     882.25          1     3  1717     140000\n",
            "2         2003     866.00          1     2  1786     223500\n",
            "4         2004     756.00          2     2  2198     250000\n",
            "5         2005    1053.00          2     2  2300     200000\n"
          ],
          "name": "stdout"
        }
      ]
    },
    {
      "cell_type": "code",
      "metadata": {
        "colab": {
          "base_uri": "https://localhost:8080/"
        },
        "id": "lOaZxnX0oBng",
        "outputId": "a2e23726-ce3d-423b-d10b-596c35f7b5dc"
      },
      "source": [
        "df1=df[['bath','area']]\r\n",
        "print(df1)"
      ],
      "execution_count": null,
      "outputs": [
        {
          "output_type": "stream",
          "text": [
            "   bath  area\n",
            "1     1  1262\n",
            "0     1  1710\n",
            "3     3  1717\n",
            "2     2  1786\n",
            "4     2  2198\n",
            "5     2  2300\n"
          ],
          "name": "stdout"
        }
      ]
    },
    {
      "cell_type": "code",
      "metadata": {
        "colab": {
          "base_uri": "https://localhost:8080/"
        },
        "id": "qpqSItvOon39",
        "outputId": "8557c258-d3bd-4c3c-e68a-ac66eab4c9b5"
      },
      "source": [
        "df2=df[['2nd floor','area']].fillna(df.min())\r\n",
        "print(df2)\r\n"
      ],
      "execution_count": null,
      "outputs": [
        {
          "output_type": "stream",
          "text": [
            "   2nd floor  area\n",
            "1      756.0  1262\n",
            "0      854.0  1710\n",
            "3      756.0  1717\n",
            "2      866.0  1786\n",
            "4      756.0  2198\n",
            "5     1053.0  2300\n",
            "   2nd floor  area\n",
            "1     1053.0  1262\n",
            "0      854.0  1710\n",
            "3     1053.0  1717\n",
            "2      866.0  1786\n",
            "4      756.0  2198\n",
            "5     1053.0  2300\n"
          ],
          "name": "stdout"
        }
      ]
    },
    {
      "cell_type": "code",
      "metadata": {
        "colab": {
          "base_uri": "https://localhost:8080/"
        },
        "id": "72xZkpn6uUEY",
        "outputId": "395b6779-4802-4c8f-ec22-f6d1b9989edf"
      },
      "source": [
        "df8=df[['2nd floor','area']].fillna(df.max())\r\n",
        "print(df8)"
      ],
      "execution_count": null,
      "outputs": [
        {
          "output_type": "stream",
          "text": [
            "   2nd floor  area\n",
            "1     1053.0  1262\n",
            "0      854.0  1710\n",
            "3     1053.0  1717\n",
            "2      866.0  1786\n",
            "4      756.0  2198\n",
            "5     1053.0  2300\n"
          ],
          "name": "stdout"
        }
      ]
    },
    {
      "cell_type": "code",
      "metadata": {
        "colab": {
          "base_uri": "https://localhost:8080/",
          "height": 204
        },
        "id": "0eDli0iJpLA7",
        "outputId": "9f5dad75-8581-4dcf-8cf2-1a2f5670e225"
      },
      "source": [
        "df.head()"
      ],
      "execution_count": null,
      "outputs": [
        {
          "output_type": "execute_result",
          "data": {
            "text/html": [
              "<div>\n",
              "<style scoped>\n",
              "    .dataframe tbody tr th:only-of-type {\n",
              "        vertical-align: middle;\n",
              "    }\n",
              "\n",
              "    .dataframe tbody tr th {\n",
              "        vertical-align: top;\n",
              "    }\n",
              "\n",
              "    .dataframe thead th {\n",
              "        text-align: right;\n",
              "    }\n",
              "</style>\n",
              "<table border=\"1\" class=\"dataframe\">\n",
              "  <thead>\n",
              "    <tr style=\"text-align: right;\">\n",
              "      <th></th>\n",
              "      <th>year build</th>\n",
              "      <th>2nd floor</th>\n",
              "      <th>kitchten</th>\n",
              "      <th>bath</th>\n",
              "      <th>area</th>\n",
              "      <th>saleprice</th>\n",
              "    </tr>\n",
              "  </thead>\n",
              "  <tbody>\n",
              "    <tr>\n",
              "      <th>1</th>\n",
              "      <td>2001</td>\n",
              "      <td>NaN</td>\n",
              "      <td>3</td>\n",
              "      <td>1</td>\n",
              "      <td>1262</td>\n",
              "      <td>181500</td>\n",
              "    </tr>\n",
              "    <tr>\n",
              "      <th>0</th>\n",
              "      <td>2001</td>\n",
              "      <td>854.0</td>\n",
              "      <td>2</td>\n",
              "      <td>1</td>\n",
              "      <td>1710</td>\n",
              "      <td>200500</td>\n",
              "    </tr>\n",
              "    <tr>\n",
              "      <th>3</th>\n",
              "      <td>2003</td>\n",
              "      <td>NaN</td>\n",
              "      <td>1</td>\n",
              "      <td>3</td>\n",
              "      <td>1717</td>\n",
              "      <td>140000</td>\n",
              "    </tr>\n",
              "    <tr>\n",
              "      <th>2</th>\n",
              "      <td>2003</td>\n",
              "      <td>866.0</td>\n",
              "      <td>1</td>\n",
              "      <td>2</td>\n",
              "      <td>1786</td>\n",
              "      <td>223500</td>\n",
              "    </tr>\n",
              "    <tr>\n",
              "      <th>4</th>\n",
              "      <td>2004</td>\n",
              "      <td>756.0</td>\n",
              "      <td>2</td>\n",
              "      <td>2</td>\n",
              "      <td>2198</td>\n",
              "      <td>250000</td>\n",
              "    </tr>\n",
              "  </tbody>\n",
              "</table>\n",
              "</div>"
            ],
            "text/plain": [
              "   year build   2nd floor  kitchten   bath  area  saleprice\n",
              "1         2001        NaN          3     1  1262     181500\n",
              "0         2001      854.0          2     1  1710     200500\n",
              "3         2003        NaN          1     3  1717     140000\n",
              "2         2003      866.0          1     2  1786     223500\n",
              "4         2004      756.0          2     2  2198     250000"
            ]
          },
          "metadata": {
            "tags": []
          },
          "execution_count": 57
        }
      ]
    },
    {
      "cell_type": "code",
      "metadata": {
        "colab": {
          "base_uri": "https://localhost:8080/",
          "height": 111
        },
        "id": "ciiUcD9MpOWk",
        "outputId": "73d7b2c6-b330-4a9d-dfb7-95ba2c3ee4ef"
      },
      "source": [
        "df.head(2)"
      ],
      "execution_count": null,
      "outputs": [
        {
          "output_type": "execute_result",
          "data": {
            "text/html": [
              "<div>\n",
              "<style scoped>\n",
              "    .dataframe tbody tr th:only-of-type {\n",
              "        vertical-align: middle;\n",
              "    }\n",
              "\n",
              "    .dataframe tbody tr th {\n",
              "        vertical-align: top;\n",
              "    }\n",
              "\n",
              "    .dataframe thead th {\n",
              "        text-align: right;\n",
              "    }\n",
              "</style>\n",
              "<table border=\"1\" class=\"dataframe\">\n",
              "  <thead>\n",
              "    <tr style=\"text-align: right;\">\n",
              "      <th></th>\n",
              "      <th>year build</th>\n",
              "      <th>2nd floor</th>\n",
              "      <th>kitchten</th>\n",
              "      <th>bath</th>\n",
              "      <th>area</th>\n",
              "      <th>saleprice</th>\n",
              "    </tr>\n",
              "  </thead>\n",
              "  <tbody>\n",
              "    <tr>\n",
              "      <th>1</th>\n",
              "      <td>2001</td>\n",
              "      <td>NaN</td>\n",
              "      <td>3</td>\n",
              "      <td>1</td>\n",
              "      <td>1262</td>\n",
              "      <td>181500</td>\n",
              "    </tr>\n",
              "    <tr>\n",
              "      <th>0</th>\n",
              "      <td>2001</td>\n",
              "      <td>854.0</td>\n",
              "      <td>2</td>\n",
              "      <td>1</td>\n",
              "      <td>1710</td>\n",
              "      <td>200500</td>\n",
              "    </tr>\n",
              "  </tbody>\n",
              "</table>\n",
              "</div>"
            ],
            "text/plain": [
              "   year build   2nd floor  kitchten   bath  area  saleprice\n",
              "1         2001        NaN          3     1  1262     181500\n",
              "0         2001      854.0          2     1  1710     200500"
            ]
          },
          "metadata": {
            "tags": []
          },
          "execution_count": 58
        }
      ]
    },
    {
      "cell_type": "code",
      "metadata": {
        "colab": {
          "base_uri": "https://localhost:8080/"
        },
        "id": "3jlZ7d9qpYWb",
        "outputId": "54ee37a4-fcc2-4e99-bcfd-bed4935a29d8"
      },
      "source": [
        "df4=df[['saleprice','area']].head(2)\r\n",
        "df5=df[['bath','area']].tail(2)\r\n",
        "print(df4)\r\n",
        "print(df5)\r\n"
      ],
      "execution_count": null,
      "outputs": [
        {
          "output_type": "stream",
          "text": [
            "   saleprice  area\n",
            "1     181500  1262\n",
            "0     200500  1710\n",
            "   bath  area\n",
            "4     2  2198\n",
            "5     2  2300\n"
          ],
          "name": "stdout"
        }
      ]
    },
    {
      "cell_type": "code",
      "metadata": {
        "colab": {
          "base_uri": "https://localhost:8080/"
        },
        "id": "AYN99J1Vr_7y",
        "outputId": "6138958e-ef37-4922-b597-f46d367dc5d4"
      },
      "source": [
        "df6=pd.merge(df4,df5)\r\n",
        "print(df6)"
      ],
      "execution_count": null,
      "outputs": [
        {
          "output_type": "stream",
          "text": [
            "Empty DataFrame\n",
            "Columns: [saleprice, area, bath]\n",
            "Index: []\n"
          ],
          "name": "stdout"
        }
      ]
    }
  ]
}